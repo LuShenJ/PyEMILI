{
 "cells": [
  {
   "attachments": {},
   "cell_type": "markdown",
   "metadata": {},
   "source": [
    "## Line identification\n",
    "\n",
    "The primary function to make line identifications with input line list is the class `Line_list` from `pyemili.Lines`. So import this class when you need to identify lines."
   ]
  },
  {
   "cell_type": "code",
   "execution_count": 1,
   "metadata": {},
   "outputs": [],
   "source": [
    "from pyemili.Lines import Line_list\n",
    "import pandas as pd"
   ]
  },
  {
   "attachments": {},
   "cell_type": "markdown",
   "metadata": {},
   "source": [
    "Here we put the input line list file at the same directory and load it."
   ]
  },
  {
   "cell_type": "code",
   "execution_count": 2,
   "metadata": {},
   "outputs": [],
   "source": [
    "hf22 = pd.read_table('Hf2-2_linelist.txt',delim_whitespace=True)\n"
   ]
  },
  {
   "cell_type": "code",
   "execution_count": 3,
   "metadata": {},
   "outputs": [
    {
     "data": {
      "text/html": [
       "<div>\n",
       "<style scoped>\n",
       "    .dataframe tbody tr th:only-of-type {\n",
       "        vertical-align: middle;\n",
       "    }\n",
       "\n",
       "    .dataframe tbody tr th {\n",
       "        vertical-align: top;\n",
       "    }\n",
       "\n",
       "    .dataframe thead th {\n",
       "        text-align: right;\n",
       "    }\n",
       "</style>\n",
       "<table border=\"1\" class=\"dataframe\">\n",
       "  <thead>\n",
       "    <tr style=\"text-align: right;\">\n",
       "      <th></th>\n",
       "      <th>wav_cor</th>\n",
       "      <th>dered_flux</th>\n",
       "      <th>snr</th>\n",
       "      <th>fwhm</th>\n",
       "    </tr>\n",
       "  </thead>\n",
       "  <tbody>\n",
       "    <tr>\n",
       "      <th>0</th>\n",
       "      <td>3132.839</td>\n",
       "      <td>925.120</td>\n",
       "      <td>16.960</td>\n",
       "      <td>0.308</td>\n",
       "    </tr>\n",
       "    <tr>\n",
       "      <th>1</th>\n",
       "      <td>3187.780</td>\n",
       "      <td>1793.079</td>\n",
       "      <td>24.820</td>\n",
       "      <td>0.468</td>\n",
       "    </tr>\n",
       "    <tr>\n",
       "      <th>2</th>\n",
       "      <td>3203.148</td>\n",
       "      <td>594.023</td>\n",
       "      <td>13.200</td>\n",
       "      <td>0.354</td>\n",
       "    </tr>\n",
       "    <tr>\n",
       "      <th>3</th>\n",
       "      <td>3218.232</td>\n",
       "      <td>330.976</td>\n",
       "      <td>7.338</td>\n",
       "      <td>0.488</td>\n",
       "    </tr>\n",
       "    <tr>\n",
       "      <th>4</th>\n",
       "      <td>3244.051</td>\n",
       "      <td>204.894</td>\n",
       "      <td>3.571</td>\n",
       "      <td>0.861</td>\n",
       "    </tr>\n",
       "    <tr>\n",
       "      <th>...</th>\n",
       "      <td>...</td>\n",
       "      <td>...</td>\n",
       "      <td>...</td>\n",
       "      <td>...</td>\n",
       "    </tr>\n",
       "    <tr>\n",
       "      <th>413</th>\n",
       "      <td>9990.132</td>\n",
       "      <td>37.357</td>\n",
       "      <td>10.360</td>\n",
       "      <td>1.883</td>\n",
       "    </tr>\n",
       "    <tr>\n",
       "      <th>414</th>\n",
       "      <td>9991.311</td>\n",
       "      <td>22.606</td>\n",
       "      <td>9.655</td>\n",
       "      <td>1.386</td>\n",
       "    </tr>\n",
       "    <tr>\n",
       "      <th>415</th>\n",
       "      <td>10027.628</td>\n",
       "      <td>19.509</td>\n",
       "      <td>5.824</td>\n",
       "      <td>1.230</td>\n",
       "    </tr>\n",
       "    <tr>\n",
       "      <th>416</th>\n",
       "      <td>10049.035</td>\n",
       "      <td>290.967</td>\n",
       "      <td>37.780</td>\n",
       "      <td>1.502</td>\n",
       "    </tr>\n",
       "    <tr>\n",
       "      <th>417</th>\n",
       "      <td>10123.254</td>\n",
       "      <td>116.529</td>\n",
       "      <td>16.320</td>\n",
       "      <td>1.204</td>\n",
       "    </tr>\n",
       "  </tbody>\n",
       "</table>\n",
       "<p>418 rows × 4 columns</p>\n",
       "</div>"
      ],
      "text/plain": [
       "       wav_cor  dered_flux     snr   fwhm\n",
       "0     3132.839     925.120  16.960  0.308\n",
       "1     3187.780    1793.079  24.820  0.468\n",
       "2     3203.148     594.023  13.200  0.354\n",
       "3     3218.232     330.976   7.338  0.488\n",
       "4     3244.051     204.894   3.571  0.861\n",
       "..         ...         ...     ...    ...\n",
       "413   9990.132      37.357  10.360  1.883\n",
       "414   9991.311      22.606   9.655  1.386\n",
       "415  10027.628      19.509   5.824  1.230\n",
       "416  10049.035     290.967  37.780  1.502\n",
       "417  10123.254     116.529  16.320  1.204\n",
       "\n",
       "[418 rows x 4 columns]"
      ]
     },
     "execution_count": 3,
     "metadata": {},
     "output_type": "execute_result"
    }
   ],
   "source": [
    "hf22"
   ]
  },
  {
   "attachments": {},
   "cell_type": "markdown",
   "metadata": {},
   "source": [
    "The first column is the corrected wavelength, the second column is the deredded flux, and the third column is the SNR, and the fourth column is the FWHM in angstroms. PyEMILI needs the wavelength and flux primarily. It is also okay the input line list does not contain SNR and FWHM columns.\n",
    "Here we get the wavelength, flux, SNR, and FWHM:"
   ]
  },
  {
   "cell_type": "code",
   "execution_count": 4,
   "metadata": {},
   "outputs": [],
   "source": [
    "wavelength = hf22.wav_cor\n",
    "flux = hf22.dered_flux\n",
    "snr = hf22.snr\n",
    "fwhm = hf22.fwhm\n"
   ]
  },
  {
   "attachments": {},
   "cell_type": "markdown",
   "metadata": {},
   "source": [
    "Now we generate an instance with the above information"
   ]
  },
  {
   "cell_type": "code",
   "execution_count": 5,
   "metadata": {},
   "outputs": [],
   "source": [
    "hf22_out = Line_list(wavelength=wavelength,wavelength_error=10,flux=flux,snr=snr,fwhm=fwhm)"
   ]
  },
  {
   "attachments": {},
   "cell_type": "markdown",
   "metadata": {},
   "source": [
    "In this instance, we can use the function `identify` to automatically identify the input lines."
   ]
  },
  {
   "cell_type": "code",
   "execution_count": 6,
   "metadata": {},
   "outputs": [
    {
     "name": "stdout",
     "output_type": "stream",
     "text": [
      "Initializing database\n",
      "Use Nebula Abundance\n",
      "Using Default ICF\n",
      "Using Default Velocity Matrix\n",
      "Initializing Done\n",
      "Number of Iterations: 1\n",
      "ICF Values: Bin/%          Velocity Structure: Bin/Vel(km/s)\n",
      "ix 1:  0.9900              irvcor 1:  0.000\n",
      "ix 2:  49.504              irvcor 2:  0.000\n",
      "ix 3:  39.603              irvcor 3:  0.000\n",
      "ix 4:  9.9008              irvcor 4:  0.000\n",
      "ix 5:  0.0009              irvcor 5:  0.000\n",
      "\n"
     ]
    },
    {
     "name": "stderr",
     "output_type": "stream",
     "text": [
      "SubProcessing:: 100%|██████████| 418/418 [00:10<00:00, 40.99it/s]\n"
     ]
    },
    {
     "name": "stdout",
     "output_type": "stream",
     "text": [
      "H beta flux is not normalized. About to normalize the flux.\n",
      "Number of Iterations: 2\n",
      "ICF Values: Bin/%          Velocity Structure: Bin/Vel(km/s)\n",
      "ix 1:  1.0                 irvcor 1:  -0.251\n",
      "ix 2:  33.749              irvcor 2:  0.134\n",
      "ix 3:  63.753              irvcor 3:  0.243\n",
      "ix 4:  1.4940              irvcor 4:  0.439\n",
      "ix 5:  0.0025              irvcor 5:  5.317\n",
      "\n"
     ]
    },
    {
     "name": "stderr",
     "output_type": "stream",
     "text": [
      "MainProcessing:: 100%|██████████| 418/418 [00:10<00:00, 39.57it/s]\n"
     ]
    }
   ],
   "source": [
    "hf22_out.identify('Hf2-2',abun_type='nebula')"
   ]
  },
  {
   "attachments": {},
   "cell_type": "markdown",
   "metadata": {},
   "source": [
    "You can see in the terminal that the code starts its first line identifications with default ICF and Velocity Structure parameters, and then starts the second line identifications with optimized parameters derived from the first results. This is what the code will do when setting `iteration` to True. After the second iteration has done, two files end with '.dat' and '.out' will be generated in the same directory. In this example it will be 'Hf2-2.dat' and 'Hf2-2.out'. More description about the output files can be found [here](./Intro.md)."
   ]
  },
  {
   "attachments": {},
   "cell_type": "markdown",
   "metadata": {},
   "source": [
    "Another example:"
   ]
  },
  {
   "cell_type": "code",
   "execution_count": null,
   "metadata": {},
   "outputs": [],
   "source": [
    "J0608 = pd.read_table('J0608_linelist.txt',delim_whitespace=True)\n",
    "J0608_out = Line_list(wavelength=J0608.wave_cor.values,wavelength_error=30,flux=J0608.F.values,snr=J0608.snr.values,fwhm=J0608.fwhm.values)\n",
    "J0608_out.identify('J0608',icf=[0.01,0.5,0.4,0.1,0.00001],Te=30000,abun_type='abun_WC.dat',deplete='O 50 3')"
   ]
  },
  {
   "attachments": {},
   "cell_type": "markdown",
   "metadata": {},
   "source": [
    "In this condition, the code will use fixed `icf` values specified by the user. The electron temperature will be set to 30000K to calculate the predicted template flux of each transition. The elemental abundance table will be used from the 'abun_WC.dat' file. And the abundances of ion O III will be reduced by a factor of 50."
   ]
  },
  {
   "attachments": {},
   "cell_type": "markdown",
   "metadata": {},
   "source": [
    "## Parameters of `pyemili.Lines.Line_list.identify()`\n",
    "\n",
    "\n",
    ">**filename** : str, file-like or `pathlib.Path`\n",
    ">>Name of generated files.\n",
    "\n",
    ">**icf** : array_like, optional\n",
    ">>The percentage of each energy bin. The array length of this parameter must be 5 (the same as energy bin). These values are percentages of particular ions of that elements take up of the entire abundance for that element. Default values are `[0.01,0.5,0.4,0.1,0.00001]`. NOTE: If `iteration` is `True`, the `icf` will be calculated automatically based on the first iteration. If both `iteration` is `True` and `icf` is specified, code will prefer the specified `icf`.\n",
    "\n",
    ">**v_cor** : array_like, optional\n",
    ">>The velocity correction of each energy bin. The array length of this parameter must be 5 (the same as energy bin). Default values are `[0,0,0,0,0]`. NOTE: If `iteration` is `True`, `v_cor` will be calculated automatically. If both `iteration` is `True` and `v_cor` is specified, code will prefer the specified `v_cor`.\n",
    "\n",
    ">**sigma** : int, optional\n",
    ">>The maximum times of the wavelength uncertainty used for line identifications. e.g., `sigma` = 5 means candidates within 5 times wavelength uncertainty of observed line will be included.\n",
    "\n",
    ">**Ne** : int, optional\n",
    ">>The electron density in the unit of cm^-3. Default value is 10000.\n",
    "\n",
    ">**Te** : int, optional\n",
    ">>The electron temperature in the unit of K. Default value is 10000.\n",
    "\n",
    ">**I** : int, optional\n",
    ">>The instrumental resolution of the spectrum in the unit of km/s. Multiplet lines whose wavelengths are within `I` will be treated as one multiplet line in the \"Multiplet Check\" part.\n",
    "\n",
    ">**deplete** : str, optional \n",
    ">>To reduce or enhance the abundance of certain ions after the ionic abundances have been calculated using the `icf` values. This parameter has up to 4 arguments specified in the following order:\n",
    ">>    1. The element to deplete or enhance.\n",
    ">>    2. The amount to deplete or enhance (negative value enhance).\n",
    ">>    3. The lower end of the range of ionization states to deplete or enhance.\n",
    ">>    4. The upper end of the range of ionization states to deplete or enhance.\n",
    ">>Different arguments should be separated with space. Different ions should be separated with comma. \n",
    ">>Examples:\n",
    ">>* `Fe 10 1 3` This input type will reduce the abundances of Fe I, Fe II, and Fe III by a factor of 10.\n",
    ">>* `Fe -10 1` This input type will enhance the abundance of Fe I by a factor of 10.\n",
    ">>* `Fe 20, Ti 10` This input type will reduce the abundances of all ion of Fe and Ti by a factor of 20 and 10 respectively.\n",
    "\n",
    ">**abun_type** : str, file-like or `pathlib.Path`, optional\n",
    ">>The input elemental abundance table. Here are 2 options: 'solar' [(M. Asplund et al. 2009)](https://ui.adsabs.harvard.edu/abs/2009ARA%26A..47..481A/abstract), 'nebula' [(Osterbrock & Ferland 2006)](https://ui.adsabs.harvard.edu/abs/2006agna.book.....O/abstract). Default is 'solar'. Besides, you can use the filename of other abundance file as input.\n",
    "\n",
    ">**iteration** : bool\n",
    ">>If True, code will extract a sub line list with relatively robust identifications made in the first iteration to calculate the new `icf` and `v_cor` models and re-identify each line. Default is True.\n",
    "\n",
    ">**match_list** : str, optional \n",
    ">>The filename of the input match line table. This is a obsolete argument. It is in conflict with `iteration` parameter and may be deleted in future version. See [Sharpee et al. (2003)](https://ui.adsabs.harvard.edu/abs/2003ApJS..149..157S/abstract) for more details."
   ]
  }
 ],
 "metadata": {
  "kernelspec": {
   "display_name": "Python 3",
   "language": "python",
   "name": "python3"
  },
  "language_info": {
   "codemirror_mode": {
    "name": "ipython",
    "version": 3
   },
   "file_extension": ".py",
   "mimetype": "text/x-python",
   "name": "python",
   "nbconvert_exporter": "python",
   "pygments_lexer": "ipython3",
   "version": "3.9.7"
  },
  "orig_nbformat": 4,
  "vscode": {
   "interpreter": {
    "hash": "5addf786bcd861d1ce5006f23111f8cbb206731e5b61b0a5632ba9e0252558a8"
   }
  }
 },
 "nbformat": 4,
 "nbformat_minor": 2
}
